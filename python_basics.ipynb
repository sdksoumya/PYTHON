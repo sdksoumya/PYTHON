{
  "nbformat": 4,
  "nbformat_minor": 0,
  "metadata": {
    "colab": {
      "provenance": []
    },
    "kernelspec": {
      "name": "python3",
      "display_name": "Python 3"
    },
    "language_info": {
      "name": "python"
    }
  },
  "cells": [
    {
      "cell_type": "markdown",
      "source": [
        "**Q1.What is Python, and why is it popular?**\n",
        "  - Python is a case-sensitive programming language used for making software, writing logic and many more.\n",
        "It is popular because of their simplicity and readability. It is easy to understand the codes.\n",
        "\n",
        "Here are some key reason for python popularreaity are:-\n",
        "- easy to learn\n",
        "- Versatile nature\n",
        "- widely used in Industry\n",
        "- Compatibility\n",
        "- lots of libraries\n",
        "\n",
        "**Q2. What is an interpreter in Python?**\n",
        "  - An interpreter is a software used to execute python codes , an interpreter helps to  translates the command that you write out into code that the computer can understand.\n",
        "\n",
        "  **Q3. What are pre-defined keywords in Python?**\n",
        "  - In python there are set of codes which are already pre-defined along with there functions. Keywords are used to write logics in the programs.\n",
        "\n",
        "Some pre-defined keywords are:-\n",
        "- If\n",
        "- Else\n",
        "- While\n",
        "- For\n",
        "- Break\n",
        "- continue\n",
        "\n",
        "**Q4. Can keywords be used as variable names?**\n",
        "- No, keywords cannot be used as variable names, because they have their pre-defined functions for writing logics in codes.\n",
        "\n",
        "**Q5. What is mutability in Python?**\n",
        "- In python the term mutability refers to “the ability to modify and change its value even after it is created.”\n",
        "\n",
        "**Q6. Why are lists mutable, but tuples are immutable?**\n",
        "- In lists their are no set of rules which means we can change their values without changing their identities. While, in tuples there is different thing If you will try to change their values then there identity will get affected.\n",
        "\n",
        "**Q7. What is the difference between “==” and “is” operators in Python?**\n",
        "- The “==” operator is used to compare the value of the variable.\n",
        " \t\tExample:\n",
        "\t\t\tname = \"vijay\"\n",
        "      if name==\"vijay\":\n",
        "  \t\t\t\tprint(\"name is present\")\n",
        "\t\t\telse:\n",
        "\t\t\t\t  print(\"name is not present\")\n",
        "\n",
        "- The “is” operator is use to compare the memory locations of two objects. It returns True if the two objects have the same location , and False otherwise.\n",
        "\t\tExample:\n",
        "      a = [1,2,3]\n",
        "      b = [1,2,3]\n",
        "      c=a\n",
        "      print(a is b)\n",
        "      print(a is c)\n",
        "\n",
        "**Q8. What are logical operators in Python?**\n",
        "- logical operators are used to combine multiple conditions and evaluate them as a single boolean expression.\n",
        "\n",
        "\n",
        "There are three types of logical operators in Python:-\n",
        "- and\n",
        "- or\n",
        "- not\n",
        "\n",
        "\n",
        "**Q9.What is type casting in Python?**\n",
        "- The process of changing the data type of a value or object\n",
        "It is used to correct the mismatch of data type in the value or object.\n",
        "\n",
        "\n",
        "**Q10. What is the difference between implicit and explicit type casting?**\n",
        "- Implicit type conversion is performed by a Python interpreter only. While, Explicit type conversion is performed by the user by explicitly using type conversion functions in the program code.It is also known as typecasting.\n",
        "\n",
        "\n",
        "**Q11. What is the purpose of conditional statements in Python?**\n",
        "- A conditional statement as the name suggests itself, is used to handle conditions in your program. Like, in real life if one condition is not fulfilled, you will do something else. Similarly it goes to the programming language also if one condition is not TRUE the cod will execute to other parts of the condition.\n",
        "\n",
        "Example:-\n",
        "\n",
        "\t\t\tage = 15\n",
        "      if age >= 18:\n",
        "  \t\t\tprint(\"You will be served alcohal\")\n",
        "      else:\n",
        "   \t\t\t print(\"get out of the bar\")\n",
        "\n",
        "\n",
        "Q12. How does the elif statement work?\n",
        "- In conditional statements the elif word stands for “else if” , it is use to check multiple condition. Like ,  if the first condition is false, it moves on to the next “elif” statement to check if that condition is true.\n",
        "\n",
        "Example:-\n",
        "\n",
        "    age = 80\n",
        "    if age < 18:\n",
        "        print(\"You are minority\")\n",
        "    elif 18<age<=65:\n",
        "        print(\"Yo are adult\")\n",
        "    else:\n",
        "         print(\"You are senior citizen\")\n",
        "\n",
        "**Q13.  What is the difference between for and while loops?**\n",
        "- A “for” loop is used for iterating over a sequence. While , with the while loop we can execute a set of statements as long as a condition is true.\n",
        "\n",
        "\n",
        "Q14.  Describe a scenario where a while loop is more suitable than a for loop?\n",
        "- Use of \"for\" loop when you know the loop will be executed for short or 'n' no times. Use of \"while\" loop for reading a file which are mentioned in a variable. Use a while loop when asking for user input."
      ],
      "metadata": {
        "id": "7MdSwrkerBK-"
      }
    },
    {
      "cell_type": "markdown",
      "source": [
        "# **Practical Questions**"
      ],
      "metadata": {
        "id": "7F58laPn-V3x"
      }
    },
    {
      "cell_type": "markdown",
      "source": [
        "1. Write a Python program to print \"Hello, World!"
      ],
      "metadata": {
        "id": "8pDj8L0Zuu0O"
      }
    },
    {
      "cell_type": "code",
      "source": [
        "print(\"Hello, World!\")"
      ],
      "metadata": {
        "colab": {
          "base_uri": "https://localhost:8080/"
        },
        "id": "xYJ7B1_djKOn",
        "outputId": "24978d3a-0755-4ad6-bac7-50c1b0489c9c"
      },
      "execution_count": null,
      "outputs": [
        {
          "output_type": "stream",
          "name": "stdout",
          "text": [
            "Hello, World!\n"
          ]
        }
      ]
    },
    {
      "cell_type": "markdown",
      "source": [
        "Q2. Write a Python program that displays your name and age."
      ],
      "metadata": {
        "id": "Y9x-Z5d_u4EA"
      }
    },
    {
      "cell_type": "code",
      "source": [
        "name = \"Soumyadeep Kundu\"\n",
        "age  = 25\n",
        "print(f\"My name is {name} and my age is {age}.\")"
      ],
      "metadata": {
        "colab": {
          "base_uri": "https://localhost:8080/"
        },
        "id": "qwTDaPDkvdo7",
        "outputId": "b006e4a6-e395-4f24-d590-896c81173215"
      },
      "execution_count": null,
      "outputs": [
        {
          "output_type": "stream",
          "name": "stdout",
          "text": [
            "My name is Soumyadeep Kundu and my age is 25.\n"
          ]
        }
      ]
    },
    {
      "cell_type": "markdown",
      "source": [
        "Q3. Write code to print all the pre-defined keywords in Python using the keyword library."
      ],
      "metadata": {
        "id": "Wf2JFMjzu6tI"
      }
    },
    {
      "cell_type": "code",
      "source": [
        "import keyword\n",
        "print(keyword.kwlist)"
      ],
      "metadata": {
        "colab": {
          "base_uri": "https://localhost:8080/"
        },
        "id": "SPlU9TOsveMl",
        "outputId": "fec44e09-c45c-4bba-cffa-ed608e897a46"
      },
      "execution_count": null,
      "outputs": [
        {
          "output_type": "stream",
          "name": "stdout",
          "text": [
            "['False', 'None', 'True', 'and', 'as', 'assert', 'async', 'await', 'break', 'class', 'continue', 'def', 'del', 'elif', 'else', 'except', 'finally', 'for', 'from', 'global', 'if', 'import', 'in', 'is', 'lambda', 'nonlocal', 'not', 'or', 'pass', 'raise', 'return', 'try', 'while', 'with', 'yield']\n"
          ]
        }
      ]
    },
    {
      "cell_type": "markdown",
      "source": [
        "Q4. Write a program that checks if a given word is a Python keyword."
      ],
      "metadata": {
        "id": "MMOqcjcFu8zs"
      }
    },
    {
      "cell_type": "code",
      "source": [
        "word = input(\"Enter a word: \")\n",
        "if word in keyword.kwlist:\n",
        "  print(\"Entered word is a python keyword\")\n",
        "else:\n",
        "  print(\"Entered word isn't a python keyword\")"
      ],
      "metadata": {
        "colab": {
          "base_uri": "https://localhost:8080/"
        },
        "id": "bJ2PUSyQveqZ",
        "outputId": "608d4758-e9a6-4c51-bfc5-aa2ad2ffc55c"
      },
      "execution_count": null,
      "outputs": [
        {
          "output_type": "stream",
          "name": "stdout",
          "text": [
            "Enter a word: hello\n",
            "Entered word isn't a python keyword\n"
          ]
        }
      ]
    },
    {
      "cell_type": "markdown",
      "source": [
        "Q5.  Create a list and tuple in Python, and demonstrate how attempting to change an element works differently\n",
        "for each."
      ],
      "metadata": {
        "id": "VoXGY-GB3X9-"
      }
    },
    {
      "cell_type": "code",
      "source": [
        "list = [10, 20, 30]\n",
        "print(\"This is a original list: \" ,list)\n",
        "list[2] = 25\n",
        "print(\"This is a changed list: \" ,list)\n",
        "\n",
        "my_tuple = (10, 20, 30)\n",
        "print(\"\\nThis is a original tuple: \" ,my_tuple)\n",
        "new_tuple = my_tuple[:2] + (99,) + my_tuple[3:]\n",
        "print(\"This is a changed tuple: \" ,new_tuple)"
      ],
      "metadata": {
        "colab": {
          "base_uri": "https://localhost:8080/"
        },
        "id": "Vxn_hH8S3eNp",
        "outputId": "484a89f4-dd0b-4d46-e8da-383f9a29a588"
      },
      "execution_count": null,
      "outputs": [
        {
          "output_type": "stream",
          "name": "stdout",
          "text": [
            "This is a original list:  [10, 20, 30]\n",
            "This is a changed list:  [10, 20, 25]\n",
            "\n",
            "This is a original tuple:  (10, 20, 30)\n",
            "This is a changed tuple:  (10, 20, 99)\n"
          ]
        }
      ]
    },
    {
      "cell_type": "markdown",
      "source": [
        "Q6. Write a function to demonstrate the behavior of mutable and immutable arguments."
      ],
      "metadata": {
        "id": "d196to-8vBKt"
      }
    },
    {
      "cell_type": "code",
      "source": [
        "mutable_list = [20, 21, 22]\n",
        "immutable_string = \"Hello\"\n",
        "\n",
        "print(f\"Original mutable list: {mutable_list}\")\n",
        "print(f\"Original immutable string: {immutable_string}\")\n",
        "\n",
        "mutable_list.append(23)\n",
        "print(f\"\\nModified mutable list: {mutable_list}\")\n",
        "\n",
        "immutable_string = immutable_string + \" world\"\n",
        "print(f\"Modified immutable string: {immutable_string}\")\n"
      ],
      "metadata": {
        "colab": {
          "base_uri": "https://localhost:8080/"
        },
        "id": "FVBHAZjDvfAB",
        "outputId": "55b55069-1015-4a14-d14a-e41b5c1d4e02"
      },
      "execution_count": null,
      "outputs": [
        {
          "output_type": "stream",
          "name": "stdout",
          "text": [
            "Original mutable list: [20, 21, 22]\n",
            "Original immutable string: Hello\n",
            "\n",
            "Modified mutable list: [20, 21, 22, 23]\n",
            "Modified immutable string: Hello world\n"
          ]
        }
      ]
    },
    {
      "cell_type": "markdown",
      "source": [
        "Q7. Write a program that performs basic arithmetic operations on two user-input numbers."
      ],
      "metadata": {
        "id": "OjLqdfYrvCnU"
      }
    },
    {
      "cell_type": "code",
      "source": [
        "print(\"Basic Arithmatic operations: +, -, *, /\")\n",
        "\n",
        "num1 = int(input(\"\\nPlease enter the First number: \"))\n",
        "num2 = int(input(\"Please enter the Second number: \"))\n",
        "\n",
        "print(f\"\\nThe Addition of two number is: {num1+num2}\")\n",
        "print(f\"The Subtraction of two number is: {num1-num2}\")\n",
        "print(f\"The multiplication of two number is: {num1*num2}\")\n",
        "print(f\"The division of two number is: {num1/num2}\")"
      ],
      "metadata": {
        "colab": {
          "base_uri": "https://localhost:8080/"
        },
        "id": "c4tjt6CyvfnF",
        "outputId": "fb957134-0010-4951-df03-395190de9927"
      },
      "execution_count": null,
      "outputs": [
        {
          "output_type": "stream",
          "name": "stdout",
          "text": [
            "Basic Arithmatic operations: +, -, *, /\n",
            "\n",
            "Please enter the First number: 4\n",
            "Please enter the Second number: 2\n",
            "\n",
            "The Addition of two number is: 6\n",
            "The Subtraction of two number is: 2\n",
            "The multiplication of two number is: 8\n",
            "The division of two number is: 2.0\n"
          ]
        }
      ]
    },
    {
      "cell_type": "markdown",
      "source": [
        "Q8. Write a program to demonstrate the use of logical operators."
      ],
      "metadata": {
        "id": "ZW92LeCvvImV"
      }
    },
    {
      "cell_type": "code",
      "source": [
        "a = 10\n",
        "b = 20\n",
        "c = 5\n",
        "\n",
        "# Case 1: using and\n",
        "if a > 5 and b > 15:\n",
        "    print(\"Case 1: Both conditions are True (and)\")\n",
        "\n",
        "# Case 2: using or\n",
        "if a > 15 or c < 10:\n",
        "    print(\"Case 2: At least one condition is True (or)\")\n",
        "\n",
        "# Case 3: using not\n",
        "if not (b == 20):\n",
        "    print(\"Case 3: This runs if b is not 20 (not)\")\n",
        "else:\n",
        "    print(\"No condition matched\")"
      ],
      "metadata": {
        "colab": {
          "base_uri": "https://localhost:8080/"
        },
        "id": "vQFHbGk3vgCZ",
        "outputId": "bfdb3510-c0de-48a8-91a1-89ba5b06ed9e"
      },
      "execution_count": null,
      "outputs": [
        {
          "output_type": "stream",
          "name": "stdout",
          "text": [
            "Case 1: Both conditions are True (and)\n",
            "Case 2: At least one condition is True (or)\n",
            "No condition matched\n"
          ]
        }
      ]
    },
    {
      "cell_type": "markdown",
      "source": [
        "Q9. Write a Python program to convert user input from string to integer, float, and boolean types.\n"
      ],
      "metadata": {
        "id": "DLuVSjGAvK6R"
      }
    },
    {
      "cell_type": "code",
      "source": [
        "user_input= input(\"Enter a value: \")\n",
        "\n",
        "print(\"\\ninteger value: \",int(user_input))\n",
        "print(\"float value: \",float(user_input))\n",
        "print(\"float value: \",bool(user_input))"
      ],
      "metadata": {
        "colab": {
          "base_uri": "https://localhost:8080/"
        },
        "id": "o-vGP-oevgmb",
        "outputId": "400e7b96-2e36-4c2d-f72e-9eedf45b7b37"
      },
      "execution_count": null,
      "outputs": [
        {
          "output_type": "stream",
          "name": "stdout",
          "text": [
            "Enter a value: 25\n",
            "\n",
            "integer value:  25\n",
            "float value:  25.0\n",
            "float value:  True\n"
          ]
        }
      ]
    },
    {
      "cell_type": "markdown",
      "source": [
        "Q10. Write code to demonstrate type casting with list elements.\n"
      ],
      "metadata": {
        "id": "vUKC5QrbvNXw"
      }
    },
    {
      "cell_type": "code",
      "source": [
        "num_list = [\"10\", \"20\", \"30\", \"40\"]\n",
        "\n",
        "print(\"Original list (strings):\", num_list)\n",
        "\n",
        "# Type casting: Convert string elements to integers\n",
        "int_list = [int(x) for x in num_list]\n",
        "print(\"List after converting to integers:\", int_list)\n",
        "\n",
        "# Type casting: Convert string elements to floats\n",
        "float_list = [float(x) for x in num_list]\n",
        "print(\"List after converting to floats:\", float_list)\n",
        "\n",
        "# Type casting: Convert string elements to booleans\n",
        "bool_list = [bool(x) for x in num_list]\n",
        "print(\"List after converting to booleans:\", bool_list)"
      ],
      "metadata": {
        "id": "ldH9VLipvhAm",
        "colab": {
          "base_uri": "https://localhost:8080/"
        },
        "outputId": "96cb3f1d-a2fe-462a-9bb4-283ab477838c"
      },
      "execution_count": null,
      "outputs": [
        {
          "output_type": "stream",
          "name": "stdout",
          "text": [
            "Original list (strings): ['10', '20', '30', '40']\n",
            "List after converting to integers: [10, 20, 30, 40]\n",
            "List after converting to floats: [10.0, 20.0, 30.0, 40.0]\n",
            "List after converting to booleans: [True, True, True, True]\n"
          ]
        }
      ]
    },
    {
      "cell_type": "markdown",
      "source": [
        "Q11.  Write a program that checks if a number is positive, negative, or zero."
      ],
      "metadata": {
        "id": "2Fy24ABL-bVB"
      }
    },
    {
      "cell_type": "code",
      "source": [
        "num = int(input(\"Enter a number to check it's positive, negetive or zero: \"))\n",
        "if num > 0 :\n",
        "  print(\"Entered number is Positive\")\n",
        "elif num < 0:\n",
        "  print(\"Entered number is negetive\")\n",
        "else:\n",
        "  print(\"You entered 0\")"
      ],
      "metadata": {
        "id": "eeYtc8_R-b9j",
        "colab": {
          "base_uri": "https://localhost:8080/"
        },
        "outputId": "659d25b4-ab88-4057-c3e0-d68f62f5a27c"
      },
      "execution_count": null,
      "outputs": [
        {
          "output_type": "stream",
          "name": "stdout",
          "text": [
            "Enter a number to check it's positive, negetive or zero-20\n",
            "Entered number is negetive\n"
          ]
        }
      ]
    },
    {
      "cell_type": "markdown",
      "source": [
        "Q12. Write a for loop to print numbers from 1 to 100.\n"
      ],
      "metadata": {
        "id": "la3l4easvRK9"
      }
    },
    {
      "cell_type": "code",
      "source": [
        "for i in range (1, 101):\n",
        "  print (i)"
      ],
      "metadata": {
        "id": "NdCC3BlZvhW3",
        "colab": {
          "base_uri": "https://localhost:8080/"
        },
        "outputId": "ef2dca8b-8b41-4526-e88a-274f6e8dfed4"
      },
      "execution_count": null,
      "outputs": [
        {
          "output_type": "stream",
          "name": "stdout",
          "text": [
            "1\n",
            "2\n",
            "3\n",
            "4\n",
            "5\n",
            "6\n",
            "7\n",
            "8\n",
            "9\n",
            "10\n",
            "11\n",
            "12\n",
            "13\n",
            "14\n",
            "15\n",
            "16\n",
            "17\n",
            "18\n",
            "19\n",
            "20\n",
            "21\n",
            "22\n",
            "23\n",
            "24\n",
            "25\n",
            "26\n",
            "27\n",
            "28\n",
            "29\n",
            "30\n",
            "31\n",
            "32\n",
            "33\n",
            "34\n",
            "35\n",
            "36\n",
            "37\n",
            "38\n",
            "39\n",
            "40\n",
            "41\n",
            "42\n",
            "43\n",
            "44\n",
            "45\n",
            "46\n",
            "47\n",
            "48\n",
            "49\n",
            "50\n",
            "51\n",
            "52\n",
            "53\n",
            "54\n",
            "55\n",
            "56\n",
            "57\n",
            "58\n",
            "59\n",
            "60\n",
            "61\n",
            "62\n",
            "63\n",
            "64\n",
            "65\n",
            "66\n",
            "67\n",
            "68\n",
            "69\n",
            "70\n",
            "71\n",
            "72\n",
            "73\n",
            "74\n",
            "75\n",
            "76\n",
            "77\n",
            "78\n",
            "79\n",
            "80\n",
            "81\n",
            "82\n",
            "83\n",
            "84\n",
            "85\n",
            "86\n",
            "87\n",
            "88\n",
            "89\n",
            "90\n",
            "91\n",
            "92\n",
            "93\n",
            "94\n",
            "95\n",
            "96\n",
            "97\n",
            "98\n",
            "99\n",
            "100\n"
          ]
        }
      ]
    },
    {
      "cell_type": "markdown",
      "source": [
        "Q13. Write a Python program to find the sum of all even numbers between 1 and 500."
      ],
      "metadata": {
        "id": "HUR85I9M-czI"
      }
    },
    {
      "cell_type": "code",
      "source": [
        "total = 0\n",
        "\n",
        "for i in range(0, 501):\n",
        "    if i % 2 == 0:  # check if i is even\n",
        "        total = total + i\n",
        "\n",
        "print(\"Sum of even numbers from 0 to 500 is:\", total)"
      ],
      "metadata": {
        "colab": {
          "base_uri": "https://localhost:8080/"
        },
        "id": "OzOKdh1s8V02",
        "outputId": "6e130bca-b507-4a97-9a76-7f37d9296ab4"
      },
      "execution_count": null,
      "outputs": [
        {
          "output_type": "stream",
          "name": "stdout",
          "text": [
            "Sum of even numbers from 0 to 500 is: 62750\n"
          ]
        }
      ]
    },
    {
      "cell_type": "markdown",
      "source": [
        "Q14. Write a program to reverse a string using a while loop.\n"
      ],
      "metadata": {
        "id": "rShSayCnvUOP"
      }
    },
    {
      "cell_type": "code",
      "source": [
        "input_string = \"hello\"\n",
        "reversed_string = \"\"\n",
        "index = len(input_string) - 1\n",
        "\n",
        "while index >= 0:\n",
        "    reversed_string += input_string[index]\n",
        "    index -= 1\n",
        "\n",
        "print(f\"Original string: {input_string}\")\n",
        "print(f\"Reversed string: {reversed_string}\")"
      ],
      "metadata": {
        "id": "7kLGjNozvh78"
      },
      "execution_count": null,
      "outputs": []
    },
    {
      "cell_type": "markdown",
      "source": [
        "Q15. Write a Python program to calculate the factorial of a number provided by the user using a while loop.\n"
      ],
      "metadata": {
        "id": "-8uzAkmXvWIA"
      }
    },
    {
      "cell_type": "code",
      "source": [
        "num = int(input(\"Enter a non-negative integer to calculate its factorial: \"))\n",
        "\n",
        "if num < 0:\n",
        "    print(\"Factorial is not defined for negative numbers.\")\n",
        "elif num == 0:\n",
        "    print(\"The factorial of 0 is 1.\")\n",
        "else:\n",
        "    factorial = 1\n",
        "    count = 1\n",
        "    while count <= num:\n",
        "        factorial *= count\n",
        "        count += 1\n",
        "    print(f\"The factorial of {num} is {factorial}\")"
      ],
      "metadata": {
        "id": "KJVqjKcwvW-K"
      },
      "execution_count": null,
      "outputs": []
    }
  ]
}